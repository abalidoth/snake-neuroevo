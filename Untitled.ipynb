{
 "cells": [
  {
   "cell_type": "code",
   "execution_count": 1,
   "metadata": {},
   "outputs": [],
   "source": [
    "import numpy as np"
   ]
  },
  {
   "cell_type": "code",
   "execution_count": 15,
   "metadata": {},
   "outputs": [],
   "source": [
    "m=np.random.randint(0,2,[10,15,3])"
   ]
  },
  {
   "cell_type": "code",
   "execution_count": 13,
   "metadata": {},
   "outputs": [
    {
     "data": {
      "text/plain": [
       "(3, 3, 8, 13, 1)"
      ]
     },
     "execution_count": 13,
     "metadata": {},
     "output_type": "execute_result"
    }
   ],
   "source": [
    "np.stack([[m[i:i+10-2,j:j+15-2,:] for i in range(3)] for j in range(3)]).shape"
   ]
  },
  {
   "cell_type": "code",
   "execution_count": 5,
   "metadata": {},
   "outputs": [],
   "source": [
    "conv = np.random.normal(0,1,[3,3,10])"
   ]
  },
  {
   "cell_type": "code",
   "execution_count": null,
   "metadata": {},
   "outputs": [],
   "source": []
  },
  {
   "cell_type": "code",
   "execution_count": 14,
   "metadata": {},
   "outputs": [],
   "source": [
    "def makeconv(m, s):\n",
    "    \"\"\"take a axbxl matrix and a size s and return a [s,s,a-s+1,b-s+1,l] matrix\"\"\"\n",
    "    a,b,l = m.shape\n",
    "    return np.stack([[m[i:i+a-s+1,j:j+b-s+1,:] for i in range(s)] for j in range(s)])\n",
    "    "
   ]
  },
  {
   "cell_type": "code",
   "execution_count": 21,
   "metadata": {},
   "outputs": [
    {
     "data": {
      "text/plain": [
       "(8, 13, 3, 10)"
      ]
     },
     "execution_count": 21,
     "metadata": {},
     "output_type": "execute_result"
    }
   ],
   "source": [
    "np.tensordot(makeconv(m,3),conv, [[0,1],[0,1]]).shape"
   ]
  },
  {
   "cell_type": "code",
   "execution_count": 19,
   "metadata": {},
   "outputs": [
    {
     "data": {
      "text/plain": [
       "\u001b[0;31mSignature:\u001b[0m \u001b[0mnp\u001b[0m\u001b[0;34m.\u001b[0m\u001b[0mtensordot\u001b[0m\u001b[0;34m(\u001b[0m\u001b[0ma\u001b[0m\u001b[0;34m,\u001b[0m \u001b[0mb\u001b[0m\u001b[0;34m,\u001b[0m \u001b[0maxes\u001b[0m\u001b[0;34m=\u001b[0m\u001b[0;36m2\u001b[0m\u001b[0;34m)\u001b[0m\u001b[0;34m\u001b[0m\u001b[0;34m\u001b[0m\u001b[0m\n",
       "\u001b[0;31mDocstring:\u001b[0m\n",
       "Compute tensor dot product along specified axes.\n",
       "\n",
       "Given two tensors, `a` and `b`, and an array_like object containing\n",
       "two array_like objects, ``(a_axes, b_axes)``, sum the products of\n",
       "`a`'s and `b`'s elements (components) over the axes specified by\n",
       "``a_axes`` and ``b_axes``. The third argument can be a single non-negative\n",
       "integer_like scalar, ``N``; if it is such, then the last ``N`` dimensions\n",
       "of `a` and the first ``N`` dimensions of `b` are summed over.\n",
       "\n",
       "Parameters\n",
       "----------\n",
       "a, b : array_like\n",
       "    Tensors to \"dot\".\n",
       "\n",
       "axes : int or (2,) array_like\n",
       "    * integer_like\n",
       "      If an int N, sum over the last N axes of `a` and the first N axes\n",
       "      of `b` in order. The sizes of the corresponding axes must match.\n",
       "    * (2,) array_like\n",
       "      Or, a list of axes to be summed over, first sequence applying to `a`,\n",
       "      second to `b`. Both elements array_like must be of the same length.\n",
       "\n",
       "Returns\n",
       "-------\n",
       "output : ndarray\n",
       "    The tensor dot product of the input.\n",
       "\n",
       "See Also\n",
       "--------\n",
       "dot, einsum\n",
       "\n",
       "Notes\n",
       "-----\n",
       "Three common use cases are:\n",
       "    * ``axes = 0`` : tensor product :math:`a\\otimes b`\n",
       "    * ``axes = 1`` : tensor dot product :math:`a\\cdot b`\n",
       "    * ``axes = 2`` : (default) tensor double contraction :math:`a:b`\n",
       "\n",
       "When `axes` is integer_like, the sequence for evaluation will be: first\n",
       "the -Nth axis in `a` and 0th axis in `b`, and the -1th axis in `a` and\n",
       "Nth axis in `b` last.\n",
       "\n",
       "When there is more than one axis to sum over - and they are not the last\n",
       "(first) axes of `a` (`b`) - the argument `axes` should consist of\n",
       "two sequences of the same length, with the first axis to sum over given\n",
       "first in both sequences, the second axis second, and so forth.\n",
       "\n",
       "The shape of the result consists of the non-contracted axes of the\n",
       "first tensor, followed by the non-contracted axes of the second.\n",
       "\n",
       "Examples\n",
       "--------\n",
       "A \"traditional\" example:\n",
       "\n",
       ">>> a = np.arange(60.).reshape(3,4,5)\n",
       ">>> b = np.arange(24.).reshape(4,3,2)\n",
       ">>> c = np.tensordot(a,b, axes=([1,0],[0,1]))\n",
       ">>> c.shape\n",
       "(5, 2)\n",
       ">>> c\n",
       "array([[4400., 4730.],\n",
       "       [4532., 4874.],\n",
       "       [4664., 5018.],\n",
       "       [4796., 5162.],\n",
       "       [4928., 5306.]])\n",
       ">>> # A slower but equivalent way of computing the same...\n",
       ">>> d = np.zeros((5,2))\n",
       ">>> for i in range(5):\n",
       "...   for j in range(2):\n",
       "...     for k in range(3):\n",
       "...       for n in range(4):\n",
       "...         d[i,j] += a[k,n,i] * b[n,k,j]\n",
       ">>> c == d\n",
       "array([[ True,  True],\n",
       "       [ True,  True],\n",
       "       [ True,  True],\n",
       "       [ True,  True],\n",
       "       [ True,  True]])\n",
       "\n",
       "An extended example taking advantage of the overloading of + and \\*:\n",
       "\n",
       ">>> a = np.array(range(1, 9))\n",
       ">>> a.shape = (2, 2, 2)\n",
       ">>> A = np.array(('a', 'b', 'c', 'd'), dtype=object)\n",
       ">>> A.shape = (2, 2)\n",
       ">>> a; A\n",
       "array([[[1, 2],\n",
       "        [3, 4]],\n",
       "       [[5, 6],\n",
       "        [7, 8]]])\n",
       "array([['a', 'b'],\n",
       "       ['c', 'd']], dtype=object)\n",
       "\n",
       ">>> np.tensordot(a, A) # third argument default is 2 for double-contraction\n",
       "array(['abbcccdddd', 'aaaaabbbbbbcccccccdddddddd'], dtype=object)\n",
       "\n",
       ">>> np.tensordot(a, A, 1)\n",
       "array([[['acc', 'bdd'],\n",
       "        ['aaacccc', 'bbbdddd']],\n",
       "       [['aaaaacccccc', 'bbbbbdddddd'],\n",
       "        ['aaaaaaacccccccc', 'bbbbbbbdddddddd']]], dtype=object)\n",
       "\n",
       ">>> np.tensordot(a, A, 0) # tensor product (result too long to incl.)\n",
       "array([[[[['a', 'b'],\n",
       "          ['c', 'd']],\n",
       "          ...\n",
       "\n",
       ">>> np.tensordot(a, A, (0, 1))\n",
       "array([[['abbbbb', 'cddddd'],\n",
       "        ['aabbbbbb', 'ccdddddd']],\n",
       "       [['aaabbbbbbb', 'cccddddddd'],\n",
       "        ['aaaabbbbbbbb', 'ccccdddddddd']]], dtype=object)\n",
       "\n",
       ">>> np.tensordot(a, A, (2, 1))\n",
       "array([[['abb', 'cdd'],\n",
       "        ['aaabbbb', 'cccdddd']],\n",
       "       [['aaaaabbbbbb', 'cccccdddddd'],\n",
       "        ['aaaaaaabbbbbbbb', 'cccccccdddddddd']]], dtype=object)\n",
       "\n",
       ">>> np.tensordot(a, A, ((0, 1), (0, 1)))\n",
       "array(['abbbcccccddddddd', 'aabbbbccccccdddddddd'], dtype=object)\n",
       "\n",
       ">>> np.tensordot(a, A, ((2, 1), (1, 0)))\n",
       "array(['acccbbdddd', 'aaaaacccccccbbbbbbdddddddd'], dtype=object)\n",
       "\u001b[0;31mFile:\u001b[0m      ~/anaconda3/lib/python3.8/site-packages/numpy/core/numeric.py\n",
       "\u001b[0;31mType:\u001b[0m      function\n"
      ]
     },
     "metadata": {},
     "output_type": "display_data"
    }
   ],
   "source": [
    "np.tensordot?"
   ]
  },
  {
   "cell_type": "code",
   "execution_count": null,
   "metadata": {},
   "outputs": [],
   "source": []
  }
 ],
 "metadata": {
  "kernelspec": {
   "display_name": "Python 3",
   "language": "python",
   "name": "python3"
  },
  "language_info": {
   "codemirror_mode": {
    "name": "ipython",
    "version": 3
   },
   "file_extension": ".py",
   "mimetype": "text/x-python",
   "name": "python",
   "nbconvert_exporter": "python",
   "pygments_lexer": "ipython3",
   "version": "3.8.3"
  }
 },
 "nbformat": 4,
 "nbformat_minor": 4
}
